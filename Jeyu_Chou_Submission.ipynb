{
  "nbformat": 4,
  "nbformat_minor": 0,
  "metadata": {
    "colab": {
      "provenance": []
    },
    "kernelspec": {
      "name": "python3",
      "display_name": "Python 3"
    },
    "language_info": {
      "name": "python"
    }
  },
  "cells": [
    {
      "cell_type": "code",
      "execution_count": 1,
      "metadata": {
        "colab": {
          "base_uri": "https://localhost:8080/"
        },
        "id": "c1A08rWG2Mge",
        "outputId": "7363f7d9-2227-4875-f463-549b2643c4ec"
      },
      "outputs": [
        {
          "output_type": "stream",
          "name": "stdout",
          "text": [
            "Collecting qiskit\n",
            "  Downloading qiskit-2.2.2-cp39-abi3-manylinux2014_x86_64.manylinux_2_17_x86_64.whl.metadata (12 kB)\n",
            "Collecting rustworkx>=0.15.0 (from qiskit)\n",
            "  Downloading rustworkx-0.17.1-cp39-abi3-manylinux_2_17_x86_64.manylinux2014_x86_64.whl.metadata (10 kB)\n",
            "Requirement already satisfied: numpy<3,>=1.17 in /usr/local/lib/python3.12/dist-packages (from qiskit) (2.0.2)\n",
            "Requirement already satisfied: scipy>=1.5 in /usr/local/lib/python3.12/dist-packages (from qiskit) (1.16.2)\n",
            "Requirement already satisfied: dill>=0.3 in /usr/local/lib/python3.12/dist-packages (from qiskit) (0.3.8)\n",
            "Collecting stevedore>=3.0.0 (from qiskit)\n",
            "  Downloading stevedore-5.5.0-py3-none-any.whl.metadata (2.2 kB)\n",
            "Requirement already satisfied: typing-extensions in /usr/local/lib/python3.12/dist-packages (from qiskit) (4.15.0)\n",
            "Downloading qiskit-2.2.2-cp39-abi3-manylinux2014_x86_64.manylinux_2_17_x86_64.whl (8.0 MB)\n",
            "\u001b[2K   \u001b[90m━━━━━━━━━━━━━━━━━━━━━━━━━━━━━━━━━━━━━━━━\u001b[0m \u001b[32m8.0/8.0 MB\u001b[0m \u001b[31m52.3 MB/s\u001b[0m eta \u001b[36m0:00:00\u001b[0m\n",
            "\u001b[?25hDownloading rustworkx-0.17.1-cp39-abi3-manylinux_2_17_x86_64.manylinux2014_x86_64.whl (2.2 MB)\n",
            "\u001b[2K   \u001b[90m━━━━━━━━━━━━━━━━━━━━━━━━━━━━━━━━━━━━━━━━\u001b[0m \u001b[32m2.2/2.2 MB\u001b[0m \u001b[31m70.0 MB/s\u001b[0m eta \u001b[36m0:00:00\u001b[0m\n",
            "\u001b[?25hDownloading stevedore-5.5.0-py3-none-any.whl (49 kB)\n",
            "\u001b[2K   \u001b[90m━━━━━━━━━━━━━━━━━━━━━━━━━━━━━━━━━━━━━━━━\u001b[0m \u001b[32m49.5/49.5 kB\u001b[0m \u001b[31m2.5 MB/s\u001b[0m eta \u001b[36m0:00:00\u001b[0m\n",
            "\u001b[?25hInstalling collected packages: stevedore, rustworkx, qiskit\n",
            "Successfully installed qiskit-2.2.2 rustworkx-0.17.1 stevedore-5.5.0\n"
          ]
        }
      ],
      "source": [
        "!pip3 install qiskit"
      ]
    },
    {
      "cell_type": "code",
      "source": [
        "!pip3 install qiskit-aer"
      ],
      "metadata": {
        "colab": {
          "base_uri": "https://localhost:8080/"
        },
        "id": "AXctKESd26lO",
        "outputId": "5d7e8e25-9bc2-4110-b254-bfbfd02afddc"
      },
      "execution_count": 10,
      "outputs": [
        {
          "output_type": "stream",
          "name": "stdout",
          "text": [
            "Requirement already satisfied: qiskit-aer in /usr/local/lib/python3.12/dist-packages (0.17.2)\n",
            "Requirement already satisfied: qiskit>=1.1.0 in /usr/local/lib/python3.12/dist-packages (from qiskit-aer) (2.2.2)\n",
            "Requirement already satisfied: numpy>=1.16.3 in /usr/local/lib/python3.12/dist-packages (from qiskit-aer) (2.0.2)\n",
            "Requirement already satisfied: scipy>=1.0 in /usr/local/lib/python3.12/dist-packages (from qiskit-aer) (1.16.2)\n",
            "Requirement already satisfied: psutil>=5 in /usr/local/lib/python3.12/dist-packages (from qiskit-aer) (5.9.5)\n",
            "Requirement already satisfied: python-dateutil>=2.8.0 in /usr/local/lib/python3.12/dist-packages (from qiskit-aer) (2.9.0.post0)\n",
            "Requirement already satisfied: six>=1.5 in /usr/local/lib/python3.12/dist-packages (from python-dateutil>=2.8.0->qiskit-aer) (1.17.0)\n",
            "Requirement already satisfied: rustworkx>=0.15.0 in /usr/local/lib/python3.12/dist-packages (from qiskit>=1.1.0->qiskit-aer) (0.17.1)\n",
            "Requirement already satisfied: dill>=0.3 in /usr/local/lib/python3.12/dist-packages (from qiskit>=1.1.0->qiskit-aer) (0.3.8)\n",
            "Requirement already satisfied: stevedore>=3.0.0 in /usr/local/lib/python3.12/dist-packages (from qiskit>=1.1.0->qiskit-aer) (5.5.0)\n",
            "Requirement already satisfied: typing-extensions in /usr/local/lib/python3.12/dist-packages (from qiskit>=1.1.0->qiskit-aer) (4.15.0)\n"
          ]
        }
      ]
    },
    {
      "cell_type": "markdown",
      "source": [
        "QOSF Mentee Application: Task 3 (Quantum Error Correction) --> For simplicity, assume with only 1 qubit in the circuit"
      ],
      "metadata": {
        "id": "Rw3tN6Re_ytB"
      }
    },
    {
      "cell_type": "code",
      "source": [
        "from qiskit import transpile\n",
        "from qiskit.circuit.library import RealAmplitudes\n",
        "from qiskit.quantum_info import SparsePauliOp\n",
        "from qiskit_aer import AerSimulator\n",
        "import numpy as np\n",
        "from qiskit import QuantumCircuit, QuantumRegister, ClassicalRegister\n",
        "import random\n",
        "from qiskit.visualization import plot_histogram"
      ],
      "metadata": {
        "id": "-WBWOaew2w8n"
      },
      "execution_count": 36,
      "outputs": []
    },
    {
      "cell_type": "code",
      "source": [
        "def noise_model(a,b,circuit):\n",
        "  if not (0<=a<=1):\n",
        "    print(\"Error: Probability invalid\")\n",
        "    return circuit\n",
        "  for i in range(circuit.num_qubits):\n",
        "    if (random.random()<=a):\n",
        "      circuit.x(i)\n",
        "  return circuit\n",
        "\n",
        "\n",
        "qc = QuantumCircuit(1)\n",
        "noise_model(.5,1.,qc)\n",
        "qc.measure_all()\n",
        "\n",
        "backend = AerSimulator()\n",
        "tc = transpile(qc,backend)\n",
        "\n",
        "result = backend.run(tc).result()\n",
        "plot_histogram(result.get_counts(0))"
      ],
      "metadata": {
        "colab": {
          "base_uri": "https://localhost:8080/",
          "height": 487
        },
        "id": "kDUmcWLA2Oxl",
        "outputId": "93d2b3e6-68c0-4dc8-feb9-ee5dbb3f6146"
      },
      "execution_count": 60,
      "outputs": [
        {
          "output_type": "execute_result",
          "data": {
            "text/plain": [
              "<Figure size 640x480 with 1 Axes>"
            ],
            "image/png": "[encoded data removed]"
          },
          "metadata": {},
          "execution_count": 60
        }
      ]
    },
    {
      "cell_type": "code",
      "source": [
        "#Now, we apply the repetition code\n",
        "#We encode |0> as |000> and |1> as |111>\n",
        "#Additionally, we have 2 ancilla qubits to decode\n",
        "#Finally, map q0 back to classical bit to get result\n",
        "\n",
        "def repetition_code(circuit,a,b):\n",
        "  qreg = QuantumRegister(5)\n",
        "  creg = ClassicalRegister(3)\n",
        "  qc = QuantumCircuit(qreg,creg)\n",
        "  #since we're first dealing with 1 qubit case\n",
        "  #q0 for the original\n",
        "  #q1 and q2 as repeition\n",
        "  #q3 and q4 as ancilla for measuring\n",
        "  #3 classical --> 2 for ancilla, and 1 for output\n",
        "\n",
        "  qc.compose(circuit, [0], inplace=True)\n",
        "  qc.barrier\n",
        "\n",
        "  #now comes the repetition\n",
        "  #first, encode\n",
        "  qc.cx(0,1)\n",
        "  qc.cx(0,2)\n",
        "  qc.barrier()\n",
        "\n",
        "  #introduce the error\n",
        "  noise_model(a,b,circuit)\n",
        "\n",
        "  #now, encode the ancilla bits\n",
        "  qc.cx(0,3)\n",
        "  qc.cx(1,3)\n",
        "  qc.cx(2,4)\n",
        "  qc.cx(0,4)\n",
        "\n",
        "  qc.measure([3,4], [0,1])\n",
        "  #note\n",
        "  #01 --> error in q2\n",
        "  #10 -->error in q0\n",
        "  #11 --> error in q1\n",
        "  with qc.switch(creg) as c:\n",
        "    with c(1):\n",
        "      qc.x(2)\n",
        "    with c(2):\n",
        "      qc.x(0)\n",
        "    with c(3):\n",
        "      qc.x(1)\n",
        "\n",
        "  #final step; measure\n",
        "  qc.measure(0,2)\n",
        "\n",
        "  #Let's now test it\n",
        "  backend = AerSimulator()\n",
        "  tc = transpile(qc,backend)\n",
        "  result = backend.run(tc).result()\n",
        "  print('executed')\n",
        "  #return result\n",
        "\n",
        "  zeroes = 0\n",
        "  ones = 0\n",
        "\n",
        "  for a in result.get_counts(0):\n",
        "    if a[0] =='0':\n",
        "      zeroes += result.get_counts(0)[a]\n",
        "    else:\n",
        "      ones += result.get_counts(0)[a]\n",
        "\n",
        "  '''for bitstring, count in counts.items():\n",
        "    fb = bitstring.split()[0] #only getting the logical qubit\n",
        "    if fb =='0':\n",
        "      zeroes +=1\n",
        "    if fb=='1':\n",
        "      ones +=1'''\n",
        "\n",
        "  if zeroes>ones:\n",
        "    print('|0>')\n",
        "  else:\n",
        "    print('|1>')\n",
        "    print(zeroes)\n",
        "    print(ones)\n",
        "  return result\n",
        "\n",
        "test = QuantumCircuit(1)\n",
        "print('LOOKY')\n",
        "print(test.num_qubits)\n",
        "#noise_model(1.0,1.0,test)\n",
        "\n",
        "result=repetition_code(test,0.5,1.0)\n",
        "print(result.get_counts(0))\n",
        "for a in result.get_counts(0):\n",
        "  print(a)\n",
        "plot_histogram(result.get_counts(0))\n",
        "\n",
        "\n",
        "#print(type(result))"
      ],
      "metadata": {
        "colab": {
          "base_uri": "https://localhost:8080/",
          "height": 596
        },
        "id": "hxudmRUCArWq",
        "outputId": "0133e915-743e-44a4-c636-9b40a2bf3807"
      },
      "execution_count": 66,
      "outputs": [
        {
          "output_type": "stream",
          "name": "stdout",
          "text": [
            "LOOKY\n",
            "1\n",
            "executed\n",
            "|0>\n",
            "{'000': 1024}\n",
            "000\n"
          ]
        },
        {
          "output_type": "execute_result",
          "data": {
            "text/plain": [
              "<Figure size 640x480 with 1 Axes>"
            ],
            "image/png": "[encoded data removed]"
          },
          "metadata": {},
          "execution_count": 66
        }
      ]
    },
    {
      "cell_type": "markdown",
      "source": [
        "This is the implementation of repetition code, where for k qubits, we need\n",
        "3k + 2 qubits to encode and decode. Although this is the easiest to understand and has a direct analogy in classical computing, it only accounts for errors in the x basis (and the difference is phase is not measurable), thus it can only account for x erros, and not z errors"
      ],
      "metadata": {
        "id": "FlpP7qvIdlMC"
      }
    },
    {
      "cell_type": "code",
      "source": [
        "##Shor Code"
      ],
      "metadata": {
        "id": "p4-M9vwgeSG2"
      },
      "execution_count": null,
      "outputs": []
    }
  ]
}